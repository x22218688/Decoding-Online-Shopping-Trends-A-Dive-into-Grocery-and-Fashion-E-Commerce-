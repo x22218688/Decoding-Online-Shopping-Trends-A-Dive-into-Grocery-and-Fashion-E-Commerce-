{
 "cells": [
  {
   "cell_type": "code",
   "execution_count": 1,
   "id": "e388ef4e-e631-433d-8028-cfae8bcf4f03",
   "metadata": {},
   "outputs": [
    {
     "name": "stderr",
     "output_type": "stream",
     "text": [
      "Setting default log level to \"WARN\".\n",
      "To adjust logging level use sc.setLogLevel(newLevel). For SparkR, use setLogLevel(newLevel).\n",
      "24/05/17 17:46:21 WARN NativeCodeLoader: Unable to load native-hadoop library for your platform... using builtin-java classes where applicable\n",
      "24/05/17 17:46:21 WARN Utils: Service 'SparkUI' could not bind on port 4040. Attempting port 4041.\n",
      "24/05/17 17:46:21 WARN Utils: Service 'SparkUI' could not bind on port 4041. Attempting port 4042.\n",
      "24/05/17 17:46:21 WARN Utils: Service 'SparkUI' could not bind on port 4042. Attempting port 4043.\n"
     ]
    },
    {
     "name": "stdout",
     "output_type": "stream",
     "text": [
      "Original Schema:\n",
      "root\n",
      " |-- ProductID: string (nullable = true)\n",
      " |-- ProductName: string (nullable = true)\n",
      " |-- ProductBrand: string (nullable = true)\n",
      " |-- Gender: string (nullable = true)\n",
      " |-- Price (INR): string (nullable = true)\n",
      " |-- NumImages: string (nullable = true)\n",
      " |-- Description: string (nullable = true)\n",
      " |-- PrimaryColor: string (nullable = true)\n",
      "\n",
      "Original Data:\n",
      "+---------+---------------------------------------------------------------------------------------+------------+------+-----------+---------+--------------------------------------------------------------------------------------------------------------------------------------------------------------------------------------------------------------------------------------------------------------------------------------------------------------------------------------------------------------------------------------------------------------------------------------------------------------------------------------------------------------------------------------------------------------------------------------------------------------------------------------------+------------+\n",
      "|ProductID|ProductName                                                                            |ProductBrand|Gender|Price (INR)|NumImages|Description                                                                                                                                                                                                                                                                                                                                                                                                                                                                                                                                                                                                                                 |PrimaryColor|\n",
      "+---------+---------------------------------------------------------------------------------------+------------+------+-----------+---------+--------------------------------------------------------------------------------------------------------------------------------------------------------------------------------------------------------------------------------------------------------------------------------------------------------------------------------------------------------------------------------------------------------------------------------------------------------------------------------------------------------------------------------------------------------------------------------------------------------------------------------------------+------------+\n",
      "|10017413 |DKNY Unisex Black & Grey Printed Medium Trolley Bag                                    |DKNY        |Unisex|11745      |7        |Black and grey printed medium trolley bag, secured with a TSA lockOne handle on the top and one on the side, has a trolley with a retractable handle on the top and four corner mounted inline skate wheelsOne main zip compartment, zip lining, two compression straps with click clasps, one zip compartment on the flap with three zip pocketsWarranty: 5 yearsWarranty provided by Brand Owner / Manufacturer                                                                                                                                                                                                                           | Black      |\n",
      "|10016283 |EthnoVogue Women Beige & Grey Made to Measure Custom Made Kurta Set with Jacket        |EthnoVogue  |Women |5810       |7        |Beige & Grey made to measure kurta with churidar and dupattaBeige made to measure calf length kurta, has a V-neck, three-quarter sleeves, lightly padded on bust, flared hem, concealed zip closureGrey solid made to measure churidar, drawstring closureGrey net sequined dupatta, has printed tapingWhat is Made to Measure?Customised Kurta Set according to your Bust and Length. So please refer to the Size Chart to pick your perfect size.How to measure bust?Measure under your arms and around your chest to find your bust size in inchesHow to measure Kurta length?Measure from shoulder till barefoot to find kurta length in| Beige      |\n",
      "|10009781 |SPYKAR Women Pink Alexa Super Skinny Fit High-Rise Clean Look Stretchable Cropped Jeans|SPYKAR      |Women |899        |7        |Pink coloured wash 5-pocket high-rise cropped jeans, clean look, no fade, has a button and zip closure, and waistband with belt loops                                                                                                                                                                                                                                                                                                                                                                                                                                                                                                       | Pink       |\n",
      "|10015921 |Raymond Men Blue Self-Design Single-Breasted Bandhgala Suit                            |Raymond     |Men   |5599       |5        |Blue self-design bandhgala suitBlue self-design bandhgala blazer, has a mandarin collar, single breasted with full button placket, long sleeves, three pockets, an attached lining and a double-vented back hemBlue self-design mid-rise trousers, has a zip fly with a button and a hook-and-bar closure, four pockets, a waistband with belt loops                                                                                                                                                                                                                                                                                        |Blue        |\n",
      "|10017833 |Parx Men Brown & Off-White Slim Fit Printed Casual Shirt                               |Parx        |Men   |759        |5        |Brown and off-white printed casual shirt, has a spread collar, long sleeves, button placket,  curved hem, one patch pocket                                                                                                                                                                                                                                                                                                                                                                                                                                                                                                                  | White      |\n",
      "+---------+---------------------------------------------------------------------------------------+------------+------+-----------+---------+--------------------------------------------------------------------------------------------------------------------------------------------------------------------------------------------------------------------------------------------------------------------------------------------------------------------------------------------------------------------------------------------------------------------------------------------------------------------------------------------------------------------------------------------------------------------------------------------------------------------------------------------+------------+\n",
      "only showing top 5 rows\n",
      "\n"
     ]
    },
    {
     "ename": "TypeError",
     "evalue": "'Column' object is not callable",
     "output_type": "error",
     "traceback": [
      "\u001b[0;31m---------------------------------------------------------------------------\u001b[0m",
      "\u001b[0;31mTypeError\u001b[0m                                 Traceback (most recent call last)",
      "Cell \u001b[0;32mIn[1], line 33\u001b[0m\n\u001b[1;32m     31\u001b[0m string_columns \u001b[38;5;241m=\u001b[39m [col_name \u001b[38;5;28;01mfor\u001b[39;00m col_name, dtype \u001b[38;5;129;01min\u001b[39;00m df\u001b[38;5;241m.\u001b[39mdtypes \u001b[38;5;28;01mif\u001b[39;00m dtype \u001b[38;5;241m==\u001b[39m \u001b[38;5;124m'\u001b[39m\u001b[38;5;124mstring\u001b[39m\u001b[38;5;124m'\u001b[39m]\n\u001b[1;32m     32\u001b[0m \u001b[38;5;28;01mfor\u001b[39;00m col_name \u001b[38;5;129;01min\u001b[39;00m string_columns:\n\u001b[0;32m---> 33\u001b[0m     df \u001b[38;5;241m=\u001b[39m df\u001b[38;5;241m.\u001b[39mwithColumn(col_name, col(col_name)\u001b[38;5;241m.\u001b[39mlower())\n\u001b[1;32m     35\u001b[0m \u001b[38;5;66;03m# Display cleaned data\u001b[39;00m\n\u001b[1;32m     36\u001b[0m \u001b[38;5;28mprint\u001b[39m(\u001b[38;5;124m\"\u001b[39m\u001b[38;5;124mCleaned Schema:\u001b[39m\u001b[38;5;124m\"\u001b[39m)\n",
      "\u001b[0;31mTypeError\u001b[0m: 'Column' object is not callable"
     ]
    }
   ],
   "source": [
    "from pyspark.sql import SparkSession\n",
    "from pyspark.sql.functions import col\n",
    "\n",
    "# Create SparkSession\n",
    "spark = SparkSession.builder \\\n",
    "    .appName(\"DataCleaning\") \\\n",
    "    .getOrCreate()\n",
    "\n",
    "# Load the dataset\n",
    "df = spark.read.csv(\"myntra_catalog.csv\", header=True)\n",
    "\n",
    "# Display schema and first few rows\n",
    "print(\"Original Schema:\")\n",
    "df.printSchema()\n",
    "print(\"Original Data:\")\n",
    "df.show(5, truncate=False)\n",
    "\n",
    "# 1. Removing duplicates\n",
    "df = df.dropDuplicates()\n",
    "\n",
    "# 2. Handling missing values\n",
    "# Here, we can choose different strategies based on the column type:\n",
    "# For numerical columns, we can impute missing values with mean/median\n",
    "# For categorical columns, we can impute missing values with mode\n",
    "# For textual columns, we can impute missing values with a default value or drop the rows if missing values are significant\n",
    "# Let's handle missing values by dropping rows for demonstration\n",
    "df = df.na.drop()\n",
    "\n",
    "# 3. Ensuring data consistency\n",
    "# In this example, we'll convert string columns to lowercase for consistency\n",
    "string_columns = [col_name for col_name, dtype in df.dtypes if dtype == 'string']\n",
    "for col_name in string_columns:\n",
    "    df = df.withColumn(col_name, col(col_name).lower())\n",
    "\n",
    "# Display cleaned data\n",
    "print(\"Cleaned Schema:\")\n",
    "df.printSchema()\n",
    "print(\"Cleaned Data:\")\n",
    "df.show(5, truncate=False)\n",
    "\n",
    "# Stop SparkSession\n",
    "spark.stop()\n"
   ]
  },
  {
   "cell_type": "code",
   "execution_count": null,
   "id": "5a9a8260-6d9f-468c-88f4-66f05d90b39a",
   "metadata": {},
   "outputs": [],
   "source": []
  }
 ],
 "metadata": {
  "kernelspec": {
   "display_name": "PySpark",
   "language": "python",
   "name": "pyspark"
  },
  "language_info": {
   "codemirror_mode": {
    "name": "ipython",
    "version": 3
   },
   "file_extension": ".py",
   "mimetype": "text/x-python",
   "name": "python",
   "nbconvert_exporter": "python",
   "pygments_lexer": "ipython3",
   "version": "3.11.7"
  }
 },
 "nbformat": 4,
 "nbformat_minor": 5
}
