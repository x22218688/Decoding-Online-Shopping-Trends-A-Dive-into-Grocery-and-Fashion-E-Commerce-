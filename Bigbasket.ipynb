{
 "cells": [
  {
   "cell_type": "code",
   "execution_count": 1,
   "id": "09b39784-c4bc-4872-af66-1e106b7b3d0d",
   "metadata": {},
   "outputs": [
    {
     "name": "stderr",
     "output_type": "stream",
     "text": [
      "24/05/18 12:02:31 WARN Utils: Your hostname, shivus-MacBook-Air.local resolves to a loopback address: 127.0.0.1; using 10.13.228.27 instead (on interface en0)\n",
      "24/05/18 12:02:31 WARN Utils: Set SPARK_LOCAL_IP if you need to bind to another address\n",
      "Setting default log level to \"WARN\".\n",
      "To adjust logging level use sc.setLogLevel(newLevel). For SparkR, use setLogLevel(newLevel).\n",
      "24/05/18 12:02:31 WARN NativeCodeLoader: Unable to load native-hadoop library for your platform... using builtin-java classes where applicable\n",
      "24/05/18 12:02:32 WARN Utils: Service 'SparkUI' could not bind on port 4040. Attempting port 4041.\n"
     ]
    }
   ],
   "source": [
    "from pyspark.sql import SparkSession\n",
    "from pyspark.sql.functions import col, count, when, mean, lower, stddev, udf\n",
    "from pyspark.sql.types import StringType\n",
    "\n",
    "# Initialize Spark session with adjusted configuration\n",
    "spark = SparkSession.builder \\\n",
    "    .appName(\"DataCleaning\") \\\n",
    "    .config(\"spark.sql.debug.maxToStringFields\", 1000) \\\n",
    "    .getOrCreate()\n",
    "\n",
    "# Set log level to WARN\n",
    "spark.sparkContext.setLogLevel(\"WARN\")"
   ]
  },
  {
   "cell_type": "code",
   "execution_count": 11,
   "id": "4552bd18-1a0f-4bbd-83f9-761827781707",
   "metadata": {},
   "outputs": [],
   "source": [
    "# Load datasets\n",
    "\n",
    "bigbasket_df = spark.read.csv(\"BigBasket_Products.csv\", header=True, inferSchema=True)"
   ]
  },
  {
   "cell_type": "code",
   "execution_count": 12,
   "id": "d51fa514-cedd-4e04-9a89-01ece113de75",
   "metadata": {},
   "outputs": [
    {
     "name": "stdout",
     "output_type": "stream",
     "text": [
      "Schema information for BigBasket products:\n",
      "root\n",
      " |-- ProductID: string (nullable = true)\n",
      " |-- Product: string (nullable = true)\n",
      " |-- Category: string (nullable = true)\n",
      " |-- Sub_category: string (nullable = true)\n",
      " |-- ProductBrand: string (nullable = true)\n",
      " |-- Price (INR): string (nullable = true)\n",
      " |-- Market_price: string (nullable = true)\n",
      " |-- Type: string (nullable = true)\n",
      " |-- Rating: string (nullable = true)\n",
      " |-- Description: string (nullable = true)\n",
      "\n"
     ]
    }
   ],
   "source": [
    "# Schema information for BigBasket products\n",
    "print(\"Schema information for BigBasket products:\")\n",
    "bigbasket_df.printSchema()"
   ]
  },
  {
   "cell_type": "code",
   "execution_count": 13,
   "id": "0d6e6f40-4fd0-469f-bb83-e87eb79f34e6",
   "metadata": {},
   "outputs": [
    {
     "name": "stdout",
     "output_type": "stream",
     "text": [
      "Missing values in BigBasket products:\n",
      "+---------+-------+--------+------------+------------+-----------+------------+----+------+-----------+\n",
      "|ProductID|Product|Category|Sub_category|ProductBrand|Price (INR)|Market_price|Type|Rating|Description|\n",
      "+---------+-------+--------+------------+------------+-----------+------------+----+------+-----------+\n",
      "|        0|   5379|    6972|        7921|        8470|       8867|        9091|9255| 18016|       9589|\n",
      "+---------+-------+--------+------------+------------+-----------+------------+----+------+-----------+\n",
      "\n"
     ]
    }
   ],
   "source": [
    "# Display the count of missing values in each column\n",
    "\n",
    "print(\"Missing values in BigBasket products:\")\n",
    "bigbasket_df.select([count(when(col(c).isNull(), c)).alias(c) for c in bigbasket_df.columns]).show()\n"
   ]
  },
  {
   "cell_type": "code",
   "execution_count": 14,
   "id": "f7d7ecf8-39b5-4bf0-bbcc-efd4a21d6861",
   "metadata": {},
   "outputs": [
    {
     "name": "stdout",
     "output_type": "stream",
     "text": [
      "Number of duplicates in BigBasket dataset: 1510\n"
     ]
    }
   ],
   "source": [
    "# Identify and count duplicates in BigBasket dataset\n",
    "bigbasket_duplicates = bigbasket_df.groupBy(bigbasket_df.columns).count().filter(\"count > 1\")\n",
    "num_bigbasket_duplicates = bigbasket_duplicates.count()\n",
    "print(f\"Number of duplicates in BigBasket dataset: {num_bigbasket_duplicates}\")\n",
    "\n",
    "\n",
    "# Remove duplicates\n",
    "bigbasket_df = bigbasket_df.dropDuplicates()\n"
   ]
  },
  {
   "cell_type": "code",
   "execution_count": 15,
   "id": "822d7ac3-7fee-4647-9605-e1b2ccb5e462",
   "metadata": {},
   "outputs": [],
   "source": [
    "# Standardize text data to lower case\n",
    "bigbasket_df = bigbasket_df.withColumn('category', lower(col('category')))\n"
   ]
  },
  {
   "cell_type": "code",
   "execution_count": 16,
   "id": "d4908e52-ec3c-4595-8cdb-949d88a5dd87",
   "metadata": {},
   "outputs": [],
   "source": [
    "# Function to filter outliers based on Z-score\n",
    "def filter_outliers(df, column):\n",
    "    stats = df.select(mean(col(column)), stddev(col(column))).first()\n",
    "    mean_val, stddev_val = stats[0], stats[1]\n",
    "    return df.filter((col(column) > (mean_val - 3 * stddev_val)) & (col(column) < (mean_val + 3 * stddev_val)))\n",
    "    bigbasket_df = bigbasket_df.withColumn('sale_price', col('sale_price').cast('float'))\n",
    "\n"
   ]
  },
  {
   "cell_type": "code",
   "execution_count": 18,
   "id": "7e909129-bdad-4665-bfcb-7f093a355f8d",
   "metadata": {},
   "outputs": [
    {
     "name": "stdout",
     "output_type": "stream",
     "text": [
      "Cleaned Myntra catalog data:\n",
      "+---------+--------------------+--------------------+--------------------+---------------+-----------+------------+--------------------+------+--------------------+\n",
      "|ProductID|             Product|            category|        Sub_category|   ProductBrand|Price (INR)|Market_price|                Type|Rating|         Description|\n",
      "+---------+--------------------+--------------------+--------------------+---------------+-----------+------------+--------------------+------+--------------------+\n",
      "|      145|Turmeric Powder/A...|foodgrains, oil &...|    Masalas & Spices|     Aashirvaad|         32|          64|     Powdered Spices|   4.2|Aashirvaad Turmer...|\n",
      "|      661|       Under Eye Gel|    beauty & hygiene|           Skin Care|Organic Harvest|     505.75|         595|            Eye Care|     2|Wake up to eyes t...|\n",
      "|      908|Face Wash - Blush...|    beauty & hygiene|           Skin Care|          Lakme|     153.75|         205|           Face Care|   4.3|Use the Lakme Blu...|\n",
      "|      953|Scissors - Stylis...|cleaning & household|          Stationery|        Cartini|        220|         220|Scissor, Glue & Tape|   3.3|These scissors ar...|\n",
      "|     1204|Classic Plastic D...|cleaning & household|Bins & Bathroom Ware|          Cello|        369|         546|            Dustbins|   3.8|To make sure your...|\n",
      "|     1229|Strong Teeth Anti...|    beauty & hygiene|           Oral Care|        Colgate|     344.96|         434|          Toothpaste|   4.3|Your trusted Colg...|\n",
      "|     1612|       Oud Woman EDT|    beauty & hygiene|   Fragrances & Deos|           Nike|     324.35|         499|     Eau De Toilette|     2|A brand inspired ...|\n",
      "|     2185|Active Salt Tooth...|    beauty & hygiene|           Oral Care|        Colgate|       84.8|         106|          Toothpaste|   4.4|Colgate Active Sa...|\n",
      "|     2220|Chinese Secret Sauce|snacks & branded ...|Spreads, Sauces, ...|Wingreens Farms|        198|         198| Chilli & Soya Sauce|   3.9|Wingreens Farms C...|\n",
      "|     2418|Combo - Honey & V...|    beauty & hygiene|           Skin Care|      Astaberry|        153|         180|           Body Care|     5|Astaberry's nouri...|\n",
      "+---------+--------------------+--------------------+--------------------+---------------+-----------+------------+--------------------+------+--------------------+\n",
      "only showing top 10 rows\n",
      "\n"
     ]
    }
   ],
   "source": [
    "# Display cleaned data\n",
    "print(\"Cleaned Myntra catalog data:\")\n",
    "bigbasket_df.show(10)"
   ]
  },
  {
   "cell_type": "code",
   "execution_count": null,
   "id": "5ebf4a8f-5716-4eaf-8842-924a1e929c8e",
   "metadata": {},
   "outputs": [],
   "source": []
  }
 ],
 "metadata": {
  "kernelspec": {
   "display_name": "PySpark",
   "language": "python",
   "name": "pyspark"
  },
  "language_info": {
   "codemirror_mode": {
    "name": "ipython",
    "version": 3
   },
   "file_extension": ".py",
   "mimetype": "text/x-python",
   "name": "python",
   "nbconvert_exporter": "python",
   "pygments_lexer": "ipython3",
   "version": "3.11.7"
  }
 },
 "nbformat": 4,
 "nbformat_minor": 5
}
